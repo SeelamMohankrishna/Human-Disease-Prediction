{
 "cells": [
  {
   "cell_type": "code",
   "execution_count": 3,
   "metadata": {},
   "outputs": [
    {
     "name": "stderr",
     "output_type": "stream",
     "text": [
      "<>:9: SyntaxWarning: invalid escape sequence '\\s'\n",
      "<>:10: SyntaxWarning: invalid escape sequence '\\d'\n",
      "<>:11: SyntaxWarning: invalid escape sequence '\\p'\n",
      "<>:12: SyntaxWarning: invalid escape sequence '\\m'\n",
      "<>:13: SyntaxWarning: invalid escape sequence '\\w'\n",
      "<>:14: SyntaxWarning: invalid escape sequence '\\d'\n",
      "<>:9: SyntaxWarning: invalid escape sequence '\\s'\n",
      "<>:10: SyntaxWarning: invalid escape sequence '\\d'\n",
      "<>:11: SyntaxWarning: invalid escape sequence '\\p'\n",
      "<>:12: SyntaxWarning: invalid escape sequence '\\m'\n",
      "<>:13: SyntaxWarning: invalid escape sequence '\\w'\n",
      "<>:14: SyntaxWarning: invalid escape sequence '\\d'\n",
      "C:\\Users\\heman\\AppData\\Local\\Temp\\ipykernel_21716\\2693488018.py:9: SyntaxWarning: invalid escape sequence '\\s'\n",
      "  symptoms_df = pd.read_csv('datasets\\symtoms_df.csv')\n",
      "C:\\Users\\heman\\AppData\\Local\\Temp\\ipykernel_21716\\2693488018.py:10: SyntaxWarning: invalid escape sequence '\\d'\n",
      "  description_df = pd.read_csv('datasets\\description.csv')\n",
      "C:\\Users\\heman\\AppData\\Local\\Temp\\ipykernel_21716\\2693488018.py:11: SyntaxWarning: invalid escape sequence '\\p'\n",
      "  precautions_df = pd.read_csv('datasets\\precautions_df.csv')\n",
      "C:\\Users\\heman\\AppData\\Local\\Temp\\ipykernel_21716\\2693488018.py:12: SyntaxWarning: invalid escape sequence '\\m'\n",
      "  medications_df = pd.read_csv('datasets\\medications.csv')\n",
      "C:\\Users\\heman\\AppData\\Local\\Temp\\ipykernel_21716\\2693488018.py:13: SyntaxWarning: invalid escape sequence '\\w'\n",
      "  workout_df = pd.read_csv('datasets\\workout_df.csv')\n",
      "C:\\Users\\heman\\AppData\\Local\\Temp\\ipykernel_21716\\2693488018.py:14: SyntaxWarning: invalid escape sequence '\\d'\n",
      "  diets_df = pd.read_csv('datasets\\diets.csv')\n"
     ]
    },
    {
     "name": "stdout",
     "output_type": "stream",
     "text": [
      "Model accuracy: 0.9949186991869918\n"
     ]
    }
   ],
   "source": [
    "# Import necessary libraries\n",
    "import pandas as pd\n",
    "from sklearn.model_selection import train_test_split\n",
    "from sklearn.ensemble import RandomForestClassifier\n",
    "from sklearn.preprocessing import MultiLabelBinarizer\n",
    "import pickle\n",
    "\n",
    "# Load data from CSV files\n",
    "symptoms_df = pd.read_csv('datasets\\symtoms_df.csv')\n",
    "description_df = pd.read_csv('datasets\\description.csv')\n",
    "precautions_df = pd.read_csv('datasets\\precautions_df.csv')\n",
    "medications_df = pd.read_csv('datasets\\medications.csv')\n",
    "workout_df = pd.read_csv('datasets\\workout_df.csv')\n",
    "diets_df = pd.read_csv('datasets\\diets.csv')\n",
    "\n",
    "# Preprocess symptoms data\n",
    "symptoms_df['Symptoms'] = symptoms_df[['Symptom_1', 'Symptom_2', 'Symptom_3', 'Symptom_4']].values.tolist()\n",
    "symptoms_df['Symptoms'] = symptoms_df['Symptoms'].apply(lambda x: [symptom.strip() for symptom in x if str(symptom) != 'nan'])\n",
    "\n",
    "# Transform symptoms using MultiLabelBinarizer\n",
    "mlb = MultiLabelBinarizer()\n",
    "symptoms_transformed = mlb.fit_transform(symptoms_df['Symptoms'])\n",
    "\n",
    "# Split data into training and test sets\n",
    "X_train, X_test, y_train, y_test = train_test_split(symptoms_transformed, symptoms_df['Disease'], test_size=0.2, random_state=42)\n",
    "\n",
    "# Train a Random Forest model\n",
    "model = RandomForestClassifier()\n",
    "model.fit(X_train, y_train)\n",
    "\n",
    "# Save the trained model to a file\n",
    "with open('symptom_disease_model.pkl', 'wb') as f:\n",
    "    pickle.dump(model, f)\n",
    "\n",
    "# Save the symptom-to-disease mapping for later use\n",
    "with open('symptom_mapping.pkl', 'wb') as f:\n",
    "    pickle.dump(mlb, f)\n",
    "\n",
    "# Test the model (Optional)\n",
    "print(\"Model accuracy:\", model.score(X_test, y_test))"
   ]
  },
  {
   "cell_type": "code",
   "execution_count": null,
   "metadata": {},
   "outputs": [],
   "source": []
  }
 ],
 "metadata": {
  "kernelspec": {
   "display_name": "Python 3",
   "language": "python",
   "name": "python3"
  },
  "language_info": {
   "codemirror_mode": {
    "name": "ipython",
    "version": 3
   },
   "file_extension": ".py",
   "mimetype": "text/x-python",
   "name": "python",
   "nbconvert_exporter": "python",
   "pygments_lexer": "ipython3",
   "version": "3.12.6"
  }
 },
 "nbformat": 4,
 "nbformat_minor": 2
}
